{
 "cells": [
  {
   "cell_type": "code",
   "execution_count": 13,
   "id": "1f29f525-ed5d-4026-8d6c-2e3828f227fd",
   "metadata": {},
   "outputs": [
    {
     "name": "stdout",
     "output_type": "stream",
     "text": [
      "[122, 123, 121, 134, 149]\n"
     ]
    }
   ],
   "source": [
    "import json\n",
    "from collections import defaultdict\n",
    "from sklearn.feature_extraction.text import CountVectorizer\n",
    "from sklearn.metrics.pairwise import cosine_similarity\n",
    "\n",
    "# Load JSON data\n",
    "with open('data.json', 'r') as f:\n",
    "    data = json.load(f)\n",
    "\n",
    "users = data['users']\n",
    "videos = data['videos']\n",
    "\n",
    "# Parse video metadata into a dictionary for quick access\n",
    "video_metadata = {video['video_id']: video for video in videos}\n",
    "\n",
    "# Convert watch history to sets for quick lookup\n",
    "watch_history = {user['user_id']: set(user['watch_history']) for user in users}\n",
    "\n",
    "# Function to calculate similarity between videos based on tags and category\n",
    "def calculate_similarity(video1, video2):\n",
    "    tags1 = ' '.join(video1['tags'])\n",
    "    tags2 = ' '.join(video2['tags'])\n",
    "    category1 = video1['category']\n",
    "    category2 = video2['category']\n",
    "    \n",
    "    text_data = [tags1, tags2, category1, category2]\n",
    "    \n",
    "    vectorizer = CountVectorizer().fit_transform(text_data)\n",
    "    vectors = vectorizer.toarray()\n",
    "    \n",
    "    return cosine_similarity([vectors[0]], [vectors[1]])[0][0]\n",
    "\n",
    "# Function to get recommendations for a given user ID\n",
    "def get_recommendations(user_id, n=5):\n",
    "    user_history = watch_history[user_id]\n",
    "    candidate_videos = [video['video_id'] for video in videos if video['video_id'] not in user_history]\n",
    "    \n",
    "    # Calculate similarity scores\n",
    "    similarity_scores = defaultdict(float)\n",
    "    for video_id in candidate_videos:\n",
    "        video = video_metadata[video_id]\n",
    "        for watched_video_id in user_history:\n",
    "            watched_video = video_metadata[watched_video_id]\n",
    "            similarity_scores[video_id] += calculate_similarity(video, watched_video)\n",
    "    \n",
    "    # Rank videos based on similarity scores\n",
    "    ranked_videos = sorted(candidate_videos, key=lambda x: similarity_scores[x], reverse=True)\n",
    "    \n",
    "    # Return top-N recommended video IDs\n",
    "    return ranked_videos[:n]\n",
    "\n",
    "# Example usage:\n",
    "if __name__ == '__main__':\n",
    "    recommendations = get_recommendations(user_id=1, n=5)\n",
    "    print(recommendations)\n"
   ]
  },
  {
   "cell_type": "markdown",
   "id": "a69c2747-a371-4b3d-95ee-7bc61c77b2f8",
   "metadata": {},
   "source": [
    "#### steps to building a basic recommendation system for the video streaming platform based on the given JSON data"
   ]
  },
  {
   "cell_type": "markdown",
   "id": "cd872c99-7e37-4ee7-9535-c608bfd5ab59",
   "metadata": {},
   "source": [
    "### 1. Data Parsing"
   ]
  },
  {
   "cell_type": "code",
   "execution_count": null,
   "id": "fdfd51c7-baef-4c54-807a-d88c1d6d4587",
   "metadata": {},
   "outputs": [],
   "source": [
    "#First, we need to parse the JSON data into appropriate data structures. \n",
    "#The JSON provided has user information (user_id, name, watch_history) and video metadata (video_id, title, category, tags, duration).\n",
    "\n"
   ]
  },
  {
   "cell_type": "markdown",
   "id": "882f90d1-f570-47b1-83b4-4719faf346de",
   "metadata": {},
   "source": [
    "### 2. Similarity calculation"
   ]
  },
  {
   "cell_type": "code",
   "execution_count": null,
   "id": "20a82d2b-0d09-45c6-8a00-88cbb99c91c3",
   "metadata": {},
   "outputs": [],
   "source": [
    "# Uses CountVectorizer from sklearn to convert tags and category into numerical vectors, then calculates cosine similarity between video pairs.\n",
    "\n",
    "#implemented a function to calculate similarity between videos based on their metadata (category and tags). \n",
    "#We can apply techniques like cosine similarity or Jaccard similarity, where:\n",
    "#Cosine similarity measures the cosine of the angle between two vectors, computed from category and tags.\n",
    "#Jaccard similarity measures the intersection over union of sets (tags)."
   ]
  },
  {
   "cell_type": "markdown",
   "id": "180c6e79-3351-445b-a154-48acd8f1a11d",
   "metadata": {},
   "source": [
    "### 3. Recommendation algorithm"
   ]
  },
  {
   "cell_type": "code",
   "execution_count": null,
   "id": "b15d4986-4875-4e1f-a242-9750ea7ca419",
   "metadata": {},
   "outputs": [],
   "source": [
    "#Calculate the similarity score between the videos in the user's watch history and all other videos.\n",
    "#Rank the videos based on similarity scores.\n",
    "#Recommend the top-N videos that the user has not watched yet."
   ]
  },
  {
   "cell_type": "markdown",
   "id": "45150094-cac7-49f2-9e05-44cdfe70aa93",
   "metadata": {},
   "source": [
    "### 4. Rank videos based on similarity score"
   ]
  },
  {
   "cell_type": "code",
   "execution_count": null,
   "id": "f8253eea-d075-4969-a9f3-9e9c85ff3a6e",
   "metadata": {},
   "outputs": [],
   "source": [
    "#For a given user, identifies videos they haven't watched, calculates similarity scores against watched videos, and ranks candidates based on these scores.\n",
    "#Implement a function that returns the top N recommended video IDs for a given user ID."
   ]
  },
  {
   "cell_type": "markdown",
   "id": "2e5c5d0b-a333-4165-8fb6-9b37a0787115",
   "metadata": {},
   "source": [
    "### 5. Return Top N recommendations"
   ]
  },
  {
   "cell_type": "code",
   "execution_count": null,
   "id": "b3e67385-7929-4ddf-b19a-afd5b6125c57",
   "metadata": {},
   "outputs": [],
   "source": [
    "#Returns the top N recommended video IDs based on the calculated scores.\n",
    "#Finally, the function returns the top n video IDs from ranked_videos, which are the videos recommended to the user."
   ]
  },
  {
   "cell_type": "code",
   "execution_count": null,
   "id": "6f8e94d9-bba7-4914-b217-54098feac53c",
   "metadata": {},
   "outputs": [],
   "source": [
    "#The above code function displays 5 recommended video ID's"
   ]
  },
  {
   "cell_type": "code",
   "execution_count": null,
   "id": "346be670-262d-4c68-ac73-12c34d42df5e",
   "metadata": {},
   "outputs": [],
   "source": []
  },
  {
   "cell_type": "code",
   "execution_count": null,
   "id": "a6d9185a-7447-467c-8f7e-87e008414822",
   "metadata": {},
   "outputs": [],
   "source": []
  },
  {
   "cell_type": "code",
   "execution_count": null,
   "id": "b271317c-c713-48ee-90e5-636107265ad7",
   "metadata": {},
   "outputs": [],
   "source": []
  }
 ],
 "metadata": {
  "kernelspec": {
   "display_name": "Python 3 (ipykernel)",
   "language": "python",
   "name": "python3"
  },
  "language_info": {
   "codemirror_mode": {
    "name": "ipython",
    "version": 3
   },
   "file_extension": ".py",
   "mimetype": "text/x-python",
   "name": "python",
   "nbconvert_exporter": "python",
   "pygments_lexer": "ipython3",
   "version": "3.11.2"
  }
 },
 "nbformat": 4,
 "nbformat_minor": 5
}
